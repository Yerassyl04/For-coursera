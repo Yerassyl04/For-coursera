{
 "cells": [
  {
   "cell_type": "markdown",
   "id": "c479fe53-da03-4179-8586-9576734aaf66",
   "metadata": {},
   "source": [
    "# Data Science Tools and Ecosystem"
   ]
  },
  {
   "cell_type": "markdown",
   "id": "e5141497-3658-43f9-8cb6-7aaaf33b4622",
   "metadata": {},
   "source": [
    "In this notebook, Data Science Tools and Ecosystem are summarized."
   ]
  },
  {
   "cell_type": "markdown",
   "id": "493a8d46-60b2-4aea-85fa-46bbcf4c22ba",
   "metadata": {},
   "source": [
    "Some of the popular languages that Data Scientists use are:\n",
    "1. Python\n",
    "2. R\n",
    "3. Julia\n",
    "4. Scala"
   ]
  },
  {
   "cell_type": "markdown",
   "id": "f7047a86-c792-4678-b3cd-53e060ac9d62",
   "metadata": {},
   "source": [
    "Some of the commonly used libraries used by Data Scientists include:\n",
    "1. NumPy\n",
    "2. TensorFlow\n",
    "3. caret\n",
    "4. PyTorch\n"
   ]
  },
  {
   "cell_type": "markdown",
   "id": "a1b9451c-591f-467a-8044-74603c07d8f8",
   "metadata": {},
   "source": [
    "| Data Science Tools |\n",
    "| ----------------- |\n",
    "| Jupyter Notebook |\n",
    "|  Apache Spark   |\n",
    "|  RStudio        |\n"
   ]
  },
  {
   "cell_type": "markdown",
   "id": "df566a68-b6b6-448f-8c74-f3ef21fc4cb9",
   "metadata": {},
   "source": [
    "### Below are a few examples of evaluating arithmetic expressions in Python"
   ]
  },
  {
   "cell_type": "code",
   "execution_count": 1,
   "id": "b0d7e120-87f4-44e4-a1fc-2fae1c6f2231",
   "metadata": {
    "tags": []
   },
   "outputs": [
    {
     "data": {
      "text/plain": [
       "17"
      ]
     },
     "execution_count": 1,
     "metadata": {},
     "output_type": "execute_result"
    }
   ],
   "source": [
    " #This a simple arithmetic expression to mutiply then add integers\n",
    "(3*4)+5"
   ]
  },
  {
   "cell_type": "code",
   "execution_count": 2,
   "id": "39538f4c-50c5-4ddd-b497-14e8f3ec2188",
   "metadata": {
    "tags": []
   },
   "outputs": [
    {
     "data": {
      "text/plain": [
       "3.3333333333333335"
      ]
     },
     "execution_count": 2,
     "metadata": {},
     "output_type": "execute_result"
    }
   ],
   "source": [
    "# This will convert 200 minutes to hours by diving by 60\n",
    "200/60"
   ]
  },
  {
   "cell_type": "markdown",
   "id": "160706ec-7487-4672-8950-38040530f90a",
   "metadata": {},
   "source": [
    "**Objectives:**\n",
    "- List popular languages for Data Science\n",
    "- Data visualization programs\n",
    "- List tools for DataScience learners\n",
    "- Explore open-source tools"
   ]
  },
  {
   "cell_type": "markdown",
   "id": "075dd92e-ce80-4678-bf15-2d4a713dbad4",
   "metadata": {},
   "source": [
    "## Author\n",
    "Yerassyl Iskakov"
   ]
  },
  {
   "cell_type": "code",
   "execution_count": null,
   "id": "9082f1e1-db86-4993-ab1d-3179e79bec99",
   "metadata": {},
   "outputs": [],
   "source": []
  }
 ],
 "metadata": {
  "kernelspec": {
   "display_name": "Python",
   "language": "python",
   "name": "conda-env-python-py"
  },
  "language_info": {
   "codemirror_mode": {
    "name": "ipython",
    "version": 3
   },
   "file_extension": ".py",
   "mimetype": "text/x-python",
   "name": "python",
   "nbconvert_exporter": "python",
   "pygments_lexer": "ipython3",
   "version": "3.7.12"
  }
 },
 "nbformat": 4,
 "nbformat_minor": 5
}
